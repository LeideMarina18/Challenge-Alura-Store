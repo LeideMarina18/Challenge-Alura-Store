{
  "nbformat": 4,
  "nbformat_minor": 0,
  "metadata": {
    "colab": {
      "provenance": []
    },
    "kernelspec": {
      "name": "python3",
      "display_name": "Python 3"
    },
    "language_info": {
      "name": "python"
    }
  },
  "cells": [
    {
      "cell_type": "markdown",
      "source": [
        "### Importação dos dados\n",
        "\n"
      ],
      "metadata": {
        "id": "RhEdWd9YUR6H"
      }
    },
    {
      "cell_type": "code",
      "execution_count": 105,
      "metadata": {
        "colab": {
          "base_uri": "https://localhost:8080/",
          "height": 0
        },
        "id": "T3EvaeQ_INIL",
        "outputId": "4f832d05-dade-4ca0-c502-7a4615786fa7"
      },
      "outputs": [
        {
          "output_type": "execute_result",
          "data": {
            "text/plain": [
              "                 Produto Categoria do Produto    Preço      Frete  \\\n",
              "0     Assistente virtual          eletronicos   219.08   9.249790   \n",
              "1         Mesa de jantar               moveis   256.35  11.234305   \n",
              "2      Jogo de tabuleiro           brinquedos   279.51  21.262681   \n",
              "3            Micro-ondas     eletrodomesticos  1009.99  54.667344   \n",
              "4  Cadeira de escritório               moveis   446.99  26.964689   \n",
              "\n",
              "  Data da Compra        Vendedor Local da compra  Avaliação da compra  \\\n",
              "0     16/01/2021     Pedro Gomes              SP                    4   \n",
              "1     18/05/2022  Beatriz Moraes              RJ                    1   \n",
              "2     15/03/2021      João Souza              DF                    1   \n",
              "3     03/05/2022      João Souza              RS                    4   \n",
              "4     07/11/2020   Larissa Alves              MG                    5   \n",
              "\n",
              "  Tipo de pagamento  Quantidade de parcelas    lat    lon  \n",
              "0    cartao_credito                       8 -22.19 -48.79  \n",
              "1    cartao_credito                       4 -22.25 -42.66  \n",
              "2    cartao_credito                       1 -15.83 -47.86  \n",
              "3            boleto                       1 -30.17 -53.50  \n",
              "4            boleto                       1 -18.10 -44.38  "
            ],
            "text/html": [
              "\n",
              "  <div id=\"df-eae542ff-ec30-4d41-8de1-3dd73e514d53\" class=\"colab-df-container\">\n",
              "    <div>\n",
              "<style scoped>\n",
              "    .dataframe tbody tr th:only-of-type {\n",
              "        vertical-align: middle;\n",
              "    }\n",
              "\n",
              "    .dataframe tbody tr th {\n",
              "        vertical-align: top;\n",
              "    }\n",
              "\n",
              "    .dataframe thead th {\n",
              "        text-align: right;\n",
              "    }\n",
              "</style>\n",
              "<table border=\"1\" class=\"dataframe\">\n",
              "  <thead>\n",
              "    <tr style=\"text-align: right;\">\n",
              "      <th></th>\n",
              "      <th>Produto</th>\n",
              "      <th>Categoria do Produto</th>\n",
              "      <th>Preço</th>\n",
              "      <th>Frete</th>\n",
              "      <th>Data da Compra</th>\n",
              "      <th>Vendedor</th>\n",
              "      <th>Local da compra</th>\n",
              "      <th>Avaliação da compra</th>\n",
              "      <th>Tipo de pagamento</th>\n",
              "      <th>Quantidade de parcelas</th>\n",
              "      <th>lat</th>\n",
              "      <th>lon</th>\n",
              "    </tr>\n",
              "  </thead>\n",
              "  <tbody>\n",
              "    <tr>\n",
              "      <th>0</th>\n",
              "      <td>Assistente virtual</td>\n",
              "      <td>eletronicos</td>\n",
              "      <td>219.08</td>\n",
              "      <td>9.249790</td>\n",
              "      <td>16/01/2021</td>\n",
              "      <td>Pedro Gomes</td>\n",
              "      <td>SP</td>\n",
              "      <td>4</td>\n",
              "      <td>cartao_credito</td>\n",
              "      <td>8</td>\n",
              "      <td>-22.19</td>\n",
              "      <td>-48.79</td>\n",
              "    </tr>\n",
              "    <tr>\n",
              "      <th>1</th>\n",
              "      <td>Mesa de jantar</td>\n",
              "      <td>moveis</td>\n",
              "      <td>256.35</td>\n",
              "      <td>11.234305</td>\n",
              "      <td>18/05/2022</td>\n",
              "      <td>Beatriz Moraes</td>\n",
              "      <td>RJ</td>\n",
              "      <td>1</td>\n",
              "      <td>cartao_credito</td>\n",
              "      <td>4</td>\n",
              "      <td>-22.25</td>\n",
              "      <td>-42.66</td>\n",
              "    </tr>\n",
              "    <tr>\n",
              "      <th>2</th>\n",
              "      <td>Jogo de tabuleiro</td>\n",
              "      <td>brinquedos</td>\n",
              "      <td>279.51</td>\n",
              "      <td>21.262681</td>\n",
              "      <td>15/03/2021</td>\n",
              "      <td>João Souza</td>\n",
              "      <td>DF</td>\n",
              "      <td>1</td>\n",
              "      <td>cartao_credito</td>\n",
              "      <td>1</td>\n",
              "      <td>-15.83</td>\n",
              "      <td>-47.86</td>\n",
              "    </tr>\n",
              "    <tr>\n",
              "      <th>3</th>\n",
              "      <td>Micro-ondas</td>\n",
              "      <td>eletrodomesticos</td>\n",
              "      <td>1009.99</td>\n",
              "      <td>54.667344</td>\n",
              "      <td>03/05/2022</td>\n",
              "      <td>João Souza</td>\n",
              "      <td>RS</td>\n",
              "      <td>4</td>\n",
              "      <td>boleto</td>\n",
              "      <td>1</td>\n",
              "      <td>-30.17</td>\n",
              "      <td>-53.50</td>\n",
              "    </tr>\n",
              "    <tr>\n",
              "      <th>4</th>\n",
              "      <td>Cadeira de escritório</td>\n",
              "      <td>moveis</td>\n",
              "      <td>446.99</td>\n",
              "      <td>26.964689</td>\n",
              "      <td>07/11/2020</td>\n",
              "      <td>Larissa Alves</td>\n",
              "      <td>MG</td>\n",
              "      <td>5</td>\n",
              "      <td>boleto</td>\n",
              "      <td>1</td>\n",
              "      <td>-18.10</td>\n",
              "      <td>-44.38</td>\n",
              "    </tr>\n",
              "  </tbody>\n",
              "</table>\n",
              "</div>\n",
              "    <div class=\"colab-df-buttons\">\n",
              "\n",
              "  <div class=\"colab-df-container\">\n",
              "    <button class=\"colab-df-convert\" onclick=\"convertToInteractive('df-eae542ff-ec30-4d41-8de1-3dd73e514d53')\"\n",
              "            title=\"Convert this dataframe to an interactive table.\"\n",
              "            style=\"display:none;\">\n",
              "\n",
              "  <svg xmlns=\"http://www.w3.org/2000/svg\" height=\"24px\" viewBox=\"0 -960 960 960\">\n",
              "    <path d=\"M120-120v-720h720v720H120Zm60-500h600v-160H180v160Zm220 220h160v-160H400v160Zm0 220h160v-160H400v160ZM180-400h160v-160H180v160Zm440 0h160v-160H620v160ZM180-180h160v-160H180v160Zm440 0h160v-160H620v160Z\"/>\n",
              "  </svg>\n",
              "    </button>\n",
              "\n",
              "  <style>\n",
              "    .colab-df-container {\n",
              "      display:flex;\n",
              "      gap: 12px;\n",
              "    }\n",
              "\n",
              "    .colab-df-convert {\n",
              "      background-color: #E8F0FE;\n",
              "      border: none;\n",
              "      border-radius: 50%;\n",
              "      cursor: pointer;\n",
              "      display: none;\n",
              "      fill: #1967D2;\n",
              "      height: 32px;\n",
              "      padding: 0 0 0 0;\n",
              "      width: 32px;\n",
              "    }\n",
              "\n",
              "    .colab-df-convert:hover {\n",
              "      background-color: #E2EBFA;\n",
              "      box-shadow: 0px 1px 2px rgba(60, 64, 67, 0.3), 0px 1px 3px 1px rgba(60, 64, 67, 0.15);\n",
              "      fill: #174EA6;\n",
              "    }\n",
              "\n",
              "    .colab-df-buttons div {\n",
              "      margin-bottom: 4px;\n",
              "    }\n",
              "\n",
              "    [theme=dark] .colab-df-convert {\n",
              "      background-color: #3B4455;\n",
              "      fill: #D2E3FC;\n",
              "    }\n",
              "\n",
              "    [theme=dark] .colab-df-convert:hover {\n",
              "      background-color: #434B5C;\n",
              "      box-shadow: 0px 1px 3px 1px rgba(0, 0, 0, 0.15);\n",
              "      filter: drop-shadow(0px 1px 2px rgba(0, 0, 0, 0.3));\n",
              "      fill: #FFFFFF;\n",
              "    }\n",
              "  </style>\n",
              "\n",
              "    <script>\n",
              "      const buttonEl =\n",
              "        document.querySelector('#df-eae542ff-ec30-4d41-8de1-3dd73e514d53 button.colab-df-convert');\n",
              "      buttonEl.style.display =\n",
              "        google.colab.kernel.accessAllowed ? 'block' : 'none';\n",
              "\n",
              "      async function convertToInteractive(key) {\n",
              "        const element = document.querySelector('#df-eae542ff-ec30-4d41-8de1-3dd73e514d53');\n",
              "        const dataTable =\n",
              "          await google.colab.kernel.invokeFunction('convertToInteractive',\n",
              "                                                    [key], {});\n",
              "        if (!dataTable) return;\n",
              "\n",
              "        const docLinkHtml = 'Like what you see? Visit the ' +\n",
              "          '<a target=\"_blank\" href=https://colab.research.google.com/notebooks/data_table.ipynb>data table notebook</a>'\n",
              "          + ' to learn more about interactive tables.';\n",
              "        element.innerHTML = '';\n",
              "        dataTable['output_type'] = 'display_data';\n",
              "        await google.colab.output.renderOutput(dataTable, element);\n",
              "        const docLink = document.createElement('div');\n",
              "        docLink.innerHTML = docLinkHtml;\n",
              "        element.appendChild(docLink);\n",
              "      }\n",
              "    </script>\n",
              "  </div>\n",
              "\n",
              "\n",
              "    <div id=\"df-1bde5292-2f4c-46fd-8c61-c09130cd8328\">\n",
              "      <button class=\"colab-df-quickchart\" onclick=\"quickchart('df-1bde5292-2f4c-46fd-8c61-c09130cd8328')\"\n",
              "                title=\"Suggest charts\"\n",
              "                style=\"display:none;\">\n",
              "\n",
              "<svg xmlns=\"http://www.w3.org/2000/svg\" height=\"24px\"viewBox=\"0 0 24 24\"\n",
              "     width=\"24px\">\n",
              "    <g>\n",
              "        <path d=\"M19 3H5c-1.1 0-2 .9-2 2v14c0 1.1.9 2 2 2h14c1.1 0 2-.9 2-2V5c0-1.1-.9-2-2-2zM9 17H7v-7h2v7zm4 0h-2V7h2v10zm4 0h-2v-4h2v4z\"/>\n",
              "    </g>\n",
              "</svg>\n",
              "      </button>\n",
              "\n",
              "<style>\n",
              "  .colab-df-quickchart {\n",
              "      --bg-color: #E8F0FE;\n",
              "      --fill-color: #1967D2;\n",
              "      --hover-bg-color: #E2EBFA;\n",
              "      --hover-fill-color: #174EA6;\n",
              "      --disabled-fill-color: #AAA;\n",
              "      --disabled-bg-color: #DDD;\n",
              "  }\n",
              "\n",
              "  [theme=dark] .colab-df-quickchart {\n",
              "      --bg-color: #3B4455;\n",
              "      --fill-color: #D2E3FC;\n",
              "      --hover-bg-color: #434B5C;\n",
              "      --hover-fill-color: #FFFFFF;\n",
              "      --disabled-bg-color: #3B4455;\n",
              "      --disabled-fill-color: #666;\n",
              "  }\n",
              "\n",
              "  .colab-df-quickchart {\n",
              "    background-color: var(--bg-color);\n",
              "    border: none;\n",
              "    border-radius: 50%;\n",
              "    cursor: pointer;\n",
              "    display: none;\n",
              "    fill: var(--fill-color);\n",
              "    height: 32px;\n",
              "    padding: 0;\n",
              "    width: 32px;\n",
              "  }\n",
              "\n",
              "  .colab-df-quickchart:hover {\n",
              "    background-color: var(--hover-bg-color);\n",
              "    box-shadow: 0 1px 2px rgba(60, 64, 67, 0.3), 0 1px 3px 1px rgba(60, 64, 67, 0.15);\n",
              "    fill: var(--button-hover-fill-color);\n",
              "  }\n",
              "\n",
              "  .colab-df-quickchart-complete:disabled,\n",
              "  .colab-df-quickchart-complete:disabled:hover {\n",
              "    background-color: var(--disabled-bg-color);\n",
              "    fill: var(--disabled-fill-color);\n",
              "    box-shadow: none;\n",
              "  }\n",
              "\n",
              "  .colab-df-spinner {\n",
              "    border: 2px solid var(--fill-color);\n",
              "    border-color: transparent;\n",
              "    border-bottom-color: var(--fill-color);\n",
              "    animation:\n",
              "      spin 1s steps(1) infinite;\n",
              "  }\n",
              "\n",
              "  @keyframes spin {\n",
              "    0% {\n",
              "      border-color: transparent;\n",
              "      border-bottom-color: var(--fill-color);\n",
              "      border-left-color: var(--fill-color);\n",
              "    }\n",
              "    20% {\n",
              "      border-color: transparent;\n",
              "      border-left-color: var(--fill-color);\n",
              "      border-top-color: var(--fill-color);\n",
              "    }\n",
              "    30% {\n",
              "      border-color: transparent;\n",
              "      border-left-color: var(--fill-color);\n",
              "      border-top-color: var(--fill-color);\n",
              "      border-right-color: var(--fill-color);\n",
              "    }\n",
              "    40% {\n",
              "      border-color: transparent;\n",
              "      border-right-color: var(--fill-color);\n",
              "      border-top-color: var(--fill-color);\n",
              "    }\n",
              "    60% {\n",
              "      border-color: transparent;\n",
              "      border-right-color: var(--fill-color);\n",
              "    }\n",
              "    80% {\n",
              "      border-color: transparent;\n",
              "      border-right-color: var(--fill-color);\n",
              "      border-bottom-color: var(--fill-color);\n",
              "    }\n",
              "    90% {\n",
              "      border-color: transparent;\n",
              "      border-bottom-color: var(--fill-color);\n",
              "    }\n",
              "  }\n",
              "</style>\n",
              "\n",
              "      <script>\n",
              "        async function quickchart(key) {\n",
              "          const quickchartButtonEl =\n",
              "            document.querySelector('#' + key + ' button');\n",
              "          quickchartButtonEl.disabled = true;  // To prevent multiple clicks.\n",
              "          quickchartButtonEl.classList.add('colab-df-spinner');\n",
              "          try {\n",
              "            const charts = await google.colab.kernel.invokeFunction(\n",
              "                'suggestCharts', [key], {});\n",
              "          } catch (error) {\n",
              "            console.error('Error during call to suggestCharts:', error);\n",
              "          }\n",
              "          quickchartButtonEl.classList.remove('colab-df-spinner');\n",
              "          quickchartButtonEl.classList.add('colab-df-quickchart-complete');\n",
              "        }\n",
              "        (() => {\n",
              "          let quickchartButtonEl =\n",
              "            document.querySelector('#df-1bde5292-2f4c-46fd-8c61-c09130cd8328 button');\n",
              "          quickchartButtonEl.style.display =\n",
              "            google.colab.kernel.accessAllowed ? 'block' : 'none';\n",
              "        })();\n",
              "      </script>\n",
              "    </div>\n",
              "\n",
              "    </div>\n",
              "  </div>\n"
            ],
            "application/vnd.google.colaboratory.intrinsic+json": {
              "type": "dataframe",
              "variable_name": "loja",
              "summary": "{\n  \"name\": \"loja\",\n  \"rows\": 2359,\n  \"fields\": [\n    {\n      \"column\": \"Produto\",\n      \"properties\": {\n        \"dtype\": \"category\",\n        \"num_unique_values\": 51,\n        \"samples\": [\n          \"Viol\\u00e3o\",\n          \"Bola de basquete\",\n          \"Smartwatch\"\n        ],\n        \"semantic_type\": \"\",\n        \"description\": \"\"\n      }\n    },\n    {\n      \"column\": \"Categoria do Produto\",\n      \"properties\": {\n        \"dtype\": \"category\",\n        \"num_unique_values\": 8,\n        \"samples\": [\n          \"moveis\",\n          \"esporte e lazer\",\n          \"eletronicos\"\n        ],\n        \"semantic_type\": \"\",\n        \"description\": \"\"\n      }\n    },\n    {\n      \"column\": \"Pre\\u00e7o\",\n      \"properties\": {\n        \"dtype\": \"number\",\n        \"std\": 819.5827782539145,\n        \"min\": 10.07,\n        \"max\": 3969.38,\n        \"num_unique_values\": 2315,\n        \"samples\": [\n          446.11,\n          107.31,\n          65.86\n        ],\n        \"semantic_type\": \"\",\n        \"description\": \"\"\n      }\n    },\n    {\n      \"column\": \"Frete\",\n      \"properties\": {\n        \"dtype\": \"number\",\n        \"std\": 43.814183327408166,\n        \"min\": 0.0,\n        \"max\": 214.3770604781,\n        \"num_unique_values\": 2149,\n        \"samples\": [\n          83.815279607,\n          16.069664669,\n          14.0344876928\n        ],\n        \"semantic_type\": \"\",\n        \"description\": \"\"\n      }\n    },\n    {\n      \"column\": \"Data da Compra\",\n      \"properties\": {\n        \"dtype\": \"object\",\n        \"num_unique_values\": 1018,\n        \"samples\": [\n          \"15/09/2022\",\n          \"03/06/2020\",\n          \"06/11/2021\"\n        ],\n        \"semantic_type\": \"\",\n        \"description\": \"\"\n      }\n    },\n    {\n      \"column\": \"Vendedor\",\n      \"properties\": {\n        \"dtype\": \"category\",\n        \"num_unique_values\": 14,\n        \"samples\": [\n          \"Juliana Costa\",\n          \"Mariana Ferreira\",\n          \"Pedro Gomes\"\n        ],\n        \"semantic_type\": \"\",\n        \"description\": \"\"\n      }\n    },\n    {\n      \"column\": \"Local da compra\",\n      \"properties\": {\n        \"dtype\": \"category\",\n        \"num_unique_values\": 26,\n        \"samples\": [\n          \"TO\",\n          \"RN\",\n          \"SP\"\n        ],\n        \"semantic_type\": \"\",\n        \"description\": \"\"\n      }\n    },\n    {\n      \"column\": \"Avalia\\u00e7\\u00e3o da compra\",\n      \"properties\": {\n        \"dtype\": \"number\",\n        \"std\": 1,\n        \"min\": 1,\n        \"max\": 5,\n        \"num_unique_values\": 5,\n        \"samples\": [\n          1,\n          2,\n          5\n        ],\n        \"semantic_type\": \"\",\n        \"description\": \"\"\n      }\n    },\n    {\n      \"column\": \"Tipo de pagamento\",\n      \"properties\": {\n        \"dtype\": \"category\",\n        \"num_unique_values\": 4,\n        \"samples\": [\n          \"boleto\",\n          \"cartao_debito\",\n          \"cartao_credito\"\n        ],\n        \"semantic_type\": \"\",\n        \"description\": \"\"\n      }\n    },\n    {\n      \"column\": \"Quantidade de parcelas\",\n      \"properties\": {\n        \"dtype\": \"number\",\n        \"std\": 2,\n        \"min\": 1,\n        \"max\": 24,\n        \"num_unique_values\": 15,\n        \"samples\": [\n          7,\n          14,\n          8\n        ],\n        \"semantic_type\": \"\",\n        \"description\": \"\"\n      }\n    },\n    {\n      \"column\": \"lat\",\n      \"properties\": {\n        \"dtype\": \"number\",\n        \"std\": 5.372399916530833,\n        \"min\": -30.17,\n        \"max\": 1.41,\n        \"num_unique_values\": 26,\n        \"samples\": [\n          -9.46,\n          -5.81,\n          -22.19\n        ],\n        \"semantic_type\": \"\",\n        \"description\": \"\"\n      }\n    },\n    {\n      \"column\": \"lon\",\n      \"properties\": {\n        \"dtype\": \"number\",\n        \"std\": 4.183180020544179,\n        \"min\": -70.55,\n        \"max\": -36.59,\n        \"num_unique_values\": 26,\n        \"samples\": [\n          -48.26,\n          -36.59,\n          -48.79\n        ],\n        \"semantic_type\": \"\",\n        \"description\": \"\"\n      }\n    }\n  ]\n}"
            }
          },
          "metadata": {},
          "execution_count": 105
        }
      ],
      "source": [
        "import pandas as pd\n",
        "\n",
        "\n",
        "url = \"https://raw.githubusercontent.com/alura-es-cursos/challenge1-data-science/refs/heads/main/base-de-dados-challenge-1/loja_1.csv\"\n",
        "url2 = \"https://raw.githubusercontent.com/alura-es-cursos/challenge1-data-science/refs/heads/main/base-de-dados-challenge-1/loja_2.csv\"\n",
        "url3 = \"https://raw.githubusercontent.com/alura-es-cursos/challenge1-data-science/refs/heads/main/base-de-dados-challenge-1/loja_3.csv\"\n",
        "url4 = \"https://raw.githubusercontent.com/alura-es-cursos/challenge1-data-science/refs/heads/main/base-de-dados-challenge-1/loja_4.csv\"\n",
        "\n",
        "loja = pd.read_csv(url)\n",
        "loja2 = pd.read_csv(url2)\n",
        "loja3 = pd.read_csv(url3)\n",
        "loja4 = pd.read_csv(url4)\n",
        "\n",
        "loja.head()"
      ]
    },
    {
      "cell_type": "markdown",
      "source": [
        "Nesta primeira análise, é calculada[link text](https://) o faturamento total de cada loja. Somando os valores da coluna Preço de cada loja para estimar o faturamento"
      ],
      "metadata": {
        "id": "uSZ9cE6GXxKl"
      }
    },
    {
      "cell_type": "markdown",
      "source": [
        "#1. Análise do faturamento\n"
      ],
      "metadata": {
        "id": "X62IW3KFUIYm"
      }
    },
    {
      "cell_type": "code",
      "source": [
        "def formatar_reais(valor): #função para formatar em reais o valor do faturamento\n",
        "    \"\"\"Formata valores em R$ com separador de milhar e vírgula decimal.\"\"\"\n",
        "    return f'{valor:.2f}'.replace(\",\", \"X\").replace(\".\", \",\").replace(\"X\", \".\")"
      ],
      "metadata": {
        "id": "s9mall5ZDPKP"
      },
      "execution_count": 106,
      "outputs": []
    },
    {
      "cell_type": "code",
      "source": [
        "#arredondamento do valor de faturamento para duas casas decimais após a vírgula\n",
        "faturamento_loja1 = round(sum(loja['Preço']),2)\n",
        "faturamento_loja2 = round(sum(loja2['Preço']),2)\n",
        "faturamento_loja3 = round(sum(loja3['Preço']),2)\n",
        "faturamento_loja4 = round(sum(loja4['Preço']),2)"
      ],
      "metadata": {
        "id": "oiBr8jBi_Mok"
      },
      "execution_count": 107,
      "outputs": []
    },
    {
      "cell_type": "markdown",
      "source": [
        "# 2. Vendas por Categoria\n"
      ],
      "metadata": {
        "id": "2V_vcAPzWZmR"
      }
    },
    {
      "cell_type": "markdown",
      "source": [
        "Neste passo, deve calcular a quantidade de produtos vendidos por categoria em cada loja. A ideia é agrupar os dados por categoria e contar o número de vendas de cada tipo, mostrando as categoria mais populares de cada loja\n"
      ],
      "metadata": {
        "id": "a-00TQPnelw5"
      }
    },
    {
      "cell_type": "code",
      "source": [
        "def quantidade_vendas(lista, string): #vendas que pode ser por categoria ou por produto\n",
        "  quantidade_vendas = {} #inicia um dicionário vazio\n",
        "\n",
        "  for produto in lista[string]: #string pode ser categoria ou produto\n",
        "    if(produto in quantidade_vendas): #Se o produto ou categoria existe no dicionário\n",
        "      quantidade_vendas[produto] += 1 #soma-se + 1\n",
        "    else: #se a categoria ou produto ainda não foi adicionada no adicionario\n",
        "      quantidade_vendas[produto] = 1 #soma recebe 1\n",
        "\n",
        "  return quantidade_vendas #retorna um dicionario com as quantidades de produtos ou categoria vendidos na loja"
      ],
      "metadata": {
        "id": "KDyr8E71V3m-"
      },
      "execution_count": 108,
      "outputs": []
    },
    {
      "cell_type": "code",
      "source": [
        "qtdVendasLoja1 = quantidade_vendas(loja, 'Categoria do Produto')\n",
        "qtdVendasLoja2 = quantidade_vendas(loja2, 'Categoria do Produto')\n",
        "qtdVendasLoja3 = quantidade_vendas(loja3, 'Categoria do Produto')\n",
        "qtdVendasLoja4 = quantidade_vendas(loja4, 'Categoria do Produto')"
      ],
      "metadata": {
        "id": "5oPqoSwC8T_q"
      },
      "execution_count": 109,
      "outputs": []
    },
    {
      "cell_type": "code",
      "source": [
        "# ordenar por ordem alfabética os produtos por categoria\n",
        "qtdVendasLoja1 =  {k: qtdVendasLoja1[k] for k in sorted(qtdVendasLoja1)}\n",
        "qtdVendasLoja2 = {k: qtdVendasLoja2[k] for k in sorted(qtdVendasLoja2)}\n",
        "qtdVendasLoja3 =  {k: qtdVendasLoja3[k] for k in sorted(qtdVendasLoja3)}\n",
        "qtdVendasLoja4 =  {k: qtdVendasLoja4[k] for k in sorted(qtdVendasLoja4)}"
      ],
      "metadata": {
        "id": "NZn0pgdkPHoW"
      },
      "execution_count": 110,
      "outputs": []
    },
    {
      "cell_type": "markdown",
      "source": [],
      "metadata": {
        "id": "yrdJBnNB0knr"
      }
    },
    {
      "cell_type": "markdown",
      "source": [
        "# 3. Média de Avaliação das Compras dos Clientes\n"
      ],
      "metadata": {
        "id": "Rq6tU_xSY3jk"
      }
    },
    {
      "cell_type": "code",
      "source": [
        "def avaliacaoClientes(lista):\n",
        "  soma = sum(lista['Avaliação da compra'])\n",
        "  media = soma / len(lista['Avaliação da compra'])\n",
        "  print(media)"
      ],
      "metadata": {
        "id": "bh3jjjJwY5MU"
      },
      "execution_count": 111,
      "outputs": []
    },
    {
      "cell_type": "code",
      "source": [
        "avaliacao_Cliente_loja1 = avaliacaoClientes(loja) #loja 1\n",
        "avaliacao_Cliente_loja2 = avaliacaoClientes(loja2) #loja 2\n",
        "avaliacao_Cliente_loja3 = avaliacaoClientes(loja3) #loja 3\n",
        "avaliacao_Cliente_loja4 = avaliacaoClientes(loja4) #loja 4"
      ],
      "metadata": {
        "id": "I0KkjPoTY88F",
        "colab": {
          "base_uri": "https://localhost:8080/"
        },
        "outputId": "eb144f0e-8f61-4ad1-a66c-be311e61573b"
      },
      "execution_count": 112,
      "outputs": [
        {
          "output_type": "stream",
          "name": "stdout",
          "text": [
            "3.976685036032217\n",
            "4.037303942348453\n",
            "4.048325561678677\n",
            "3.9957591178965224\n"
          ]
        }
      ]
    },
    {
      "cell_type": "markdown",
      "source": [
        "# 4. Produtos Mais e Menos Vendidos"
      ],
      "metadata": {
        "id": "DmNp1KPBZCm-"
      }
    },
    {
      "cell_type": "code",
      "source": [
        "def produtoMaiseMenosVendidos(loja, string): #produto mais popular\n",
        "  venda_produtos = quantidade_vendas(loja, string) #pega a quantidade de produtos vendidos por categoria\n",
        "  maior_produto = max(venda_produtos, key = venda_produtos.get) #verifica qual categoria vendeu mais\n",
        "  menor_produto = min(venda_produtos, key = venda_produtos.get) #verifica qual categoria vendeu mais\n",
        "\n",
        "  return maior_produto,menor_produto"
      ],
      "metadata": {
        "id": "qoyjqijQZHfF"
      },
      "execution_count": 113,
      "outputs": []
    },
    {
      "cell_type": "markdown",
      "source": [
        "# 5. Frete Médio por Loja\n"
      ],
      "metadata": {
        "id": "Fl0cGi3bZKqU"
      }
    },
    {
      "cell_type": "code",
      "source": [
        "def custoFrete(lista):\n",
        "  soma = sum(lista['Frete'])\n",
        "  media = soma / len(lista['Frete'])\n",
        "  return media"
      ],
      "metadata": {
        "id": "S2JeaCykZNy9"
      },
      "execution_count": 114,
      "outputs": []
    },
    {
      "cell_type": "markdown",
      "source": [
        "# Gráficos bibliotecas"
      ],
      "metadata": {
        "id": "iAhAWvfP-UB3"
      }
    },
    {
      "cell_type": "code",
      "source": [
        "!pip install numpy==1.23.5"
      ],
      "metadata": {
        "colab": {
          "base_uri": "https://localhost:8080/"
        },
        "id": "87pyxGPU91wh",
        "outputId": "8c0872e8-daf0-440e-c115-d6d14d2b5e4f"
      },
      "execution_count": 115,
      "outputs": [
        {
          "output_type": "stream",
          "name": "stdout",
          "text": [
            "Requirement already satisfied: numpy==1.23.5 in /usr/local/lib/python3.11/dist-packages (1.23.5)\n"
          ]
        }
      ]
    },
    {
      "cell_type": "code",
      "source": [
        "# Instalando a biblioteca matplotlib pelo pip\n",
        "!pip install matplotlib"
      ],
      "metadata": {
        "colab": {
          "base_uri": "https://localhost:8080/"
        },
        "id": "F-dMuGek99Sc",
        "outputId": "07a5f934-4a01-4d28-8cf8-6cdf58778fd1"
      },
      "execution_count": 116,
      "outputs": [
        {
          "output_type": "stream",
          "name": "stdout",
          "text": [
            "Requirement already satisfied: matplotlib in /usr/local/lib/python3.11/dist-packages (3.10.0)\n",
            "Requirement already satisfied: contourpy>=1.0.1 in /usr/local/lib/python3.11/dist-packages (from matplotlib) (1.3.2)\n",
            "Requirement already satisfied: cycler>=0.10 in /usr/local/lib/python3.11/dist-packages (from matplotlib) (0.12.1)\n",
            "Requirement already satisfied: fonttools>=4.22.0 in /usr/local/lib/python3.11/dist-packages (from matplotlib) (4.57.0)\n",
            "Requirement already satisfied: kiwisolver>=1.3.1 in /usr/local/lib/python3.11/dist-packages (from matplotlib) (1.4.8)\n",
            "Requirement already satisfied: numpy>=1.23 in /usr/local/lib/python3.11/dist-packages (from matplotlib) (1.23.5)\n",
            "Requirement already satisfied: packaging>=20.0 in /usr/local/lib/python3.11/dist-packages (from matplotlib) (24.2)\n",
            "Requirement already satisfied: pillow>=8 in /usr/local/lib/python3.11/dist-packages (from matplotlib) (11.2.1)\n",
            "Requirement already satisfied: pyparsing>=2.3.1 in /usr/local/lib/python3.11/dist-packages (from matplotlib) (3.2.3)\n",
            "Requirement already satisfied: python-dateutil>=2.7 in /usr/local/lib/python3.11/dist-packages (from matplotlib) (2.9.0.post0)\n",
            "Requirement already satisfied: six>=1.5 in /usr/local/lib/python3.11/dist-packages (from python-dateutil>=2.7->matplotlib) (1.17.0)\n"
          ]
        }
      ]
    },
    {
      "cell_type": "code",
      "source": [
        "import matplotlib.pyplot as plt"
      ],
      "metadata": {
        "id": "tb8giK6Z-Xud"
      },
      "execution_count": 117,
      "outputs": []
    },
    {
      "cell_type": "code",
      "source": [
        "import numpy as np"
      ],
      "metadata": {
        "id": "tPgwZhfav9kP"
      },
      "execution_count": 118,
      "outputs": []
    },
    {
      "cell_type": "markdown",
      "source": [
        "#Gráfico de dispersão para Vendas por Categoria em cada loja"
      ],
      "metadata": {
        "id": "FMORwXtw10eZ"
      }
    },
    {
      "cell_type": "code",
      "source": [
        "def VendasPorCategoria():\n",
        "  lojas = ['Loja 1', 'Loja 2', 'Loja 3', 'Loja 4']\n",
        "  categorias = ['brinquedos','eletrodomesticos','eletronicos','esporte e lazer','instrumentos musicais','livros','moveis','utilidades domesticas']\n",
        "  categoriasloja1 = list(qtdVendasLoja1.values()) #pega somente o valor de vendas por categoria da loja\n",
        "  categoriasloja2 = list(qtdVendasLoja2.values())\n",
        "  categoriasloja3 = list(qtdVendasLoja3.values())\n",
        "  categoriasloja4 = list(qtdVendasLoja4.values())\n",
        "\n",
        "\n",
        "  x = np.arange(len(categorias))\n",
        "\n",
        "  # Plotando gráfico de dispersão\n",
        "  plt.scatter(x - 0.1, categoriasloja1, color='blue', label='Loja 1', s=100)  # Loja 1\n",
        "  plt.scatter(x + 0.1, categoriasloja2, color='green', label='Loja 2', s=100)  # Loja 2\n",
        "  plt.scatter(x - 0.1, categoriasloja3, color='red', label='Loja 3', s=100)    # Loja 3\n",
        "  plt.scatter(x + 0.1, categoriasloja4, color='orange', label='Loja 4', s=100) # Loja 4\n",
        "\n",
        "  # Eixos e rótulos\n",
        "  plt.xticks(x, categorias, rotation=45)\n",
        "  plt.ylabel('Quantidade de Vendas')\n",
        "  plt.title('Vendas por Categoria e Loja')\n",
        "  plt.legend()\n",
        "\n",
        "  plt.tight_layout()\n",
        "  plt.show()\n"
      ],
      "metadata": {
        "id": "PoQo1boK05hx"
      },
      "execution_count": 119,
      "outputs": []
    },
    {
      "cell_type": "markdown",
      "source": [
        "#Gráfico de barras para o faturamento de cada loja"
      ],
      "metadata": {
        "id": "G6eav1qI-shj"
      }
    },
    {
      "cell_type": "code",
      "source": [
        "def grafico_barras():\n",
        "  faturamento_lojas =  [faturamento_loja1, faturamento_loja2, faturamento_loja3,faturamento_loja4]\n",
        "  lojas = ['Loja 1', 'Loja 2', 'Loja 3', 'Loja 4']\n",
        "\n",
        "  plt.bar(x = lojas, height = faturamento_lojas, width= 0.3, color='skyblue')\n",
        "  plt.ylim(1300000, 1550000)  # Limita entre 1.3 milhão e 1.55 milhão\n",
        "  plt.xlabel('Lojas')\n",
        "  plt.tight_layout()\n",
        "  plt.ylabel('Faturamento em R$')\n",
        "  plt.title('Faturamento por loja')\n",
        "  for i, valor in enumerate(faturamento_lojas):\n",
        "      plt.text(i, valor, f'R${valor:,.0f}'.replace(',', '.'), ha='center')"
      ],
      "metadata": {
        "id": "39u66xJw-xNR"
      },
      "execution_count": 120,
      "outputs": []
    },
    {
      "cell_type": "markdown",
      "source": [
        "#Gráfico para verificar a produto mais e menos vendido"
      ],
      "metadata": {
        "id": "wzxARXyYzrqW"
      }
    },
    {
      "cell_type": "code",
      "source": [
        "def MenoreMaiorProduto(loja_escolha,loja_text):\n",
        "  maior_produto, menor_produto = produtoMaiseMenosVendidos(loja_escolha, 'Produto')\n",
        "  qtd_produtos_loja1 = quantidade_vendas(loja_escolha, 'Produto')\n",
        "  valores = [qtd_produtos_loja1[menor_produto], qtd_produtos_loja1[maior_produto]]\n",
        "  labels = [f'Menos vendido: {menor_produto}', f'Mais vendido: {maior_produto}']\n",
        "\n",
        "  plt.pie(valores, labels=labels, autopct='%1.1f%%', startangle=90, colors=['orange', 'green'])\n",
        "  plt.title(f'Comparação: Produto Mais e Menos Vendido da {loja_text}')\n",
        "  plt.axis('equal')\n",
        "  plt.show()"
      ],
      "metadata": {
        "id": "S0gfgArJ2T8l"
      },
      "execution_count": 121,
      "outputs": []
    },
    {
      "cell_type": "markdown",
      "source": [
        "# Gráfico para verificar a avaliação dos clientes"
      ],
      "metadata": {
        "id": "N7Z2IRWJ8OBt"
      }
    },
    {
      "cell_type": "code",
      "source": [
        "def plotCustoMedioFrete():\n",
        "  lojas = ['Loja 1', 'Loja 2', 'Loja 3', 'Loja 4']\n",
        "  custoFreteLoja1 = custoFrete(loja)\n",
        "  custoFreteLoja2 = custoFrete(loja2)\n",
        "  custoFreteLoja3 = custoFrete(loja3)\n",
        "  custoFreteLoja4 = custoFrete(loja4)\n",
        "\n",
        "  custos_frete = [custoFreteLoja1, custoFreteLoja2,custoFreteLoja3, custoFreteLoja4]\n",
        "\n",
        "  cores = []\n",
        "  for custo in custos_frete:\n",
        "      if custo == max(custos_frete):\n",
        "          cores.append('green')    # maior custo\n",
        "      elif custo == min(custos_frete):\n",
        "          cores.append('red')  # menor custo\n",
        "      else:\n",
        "          cores.append('gray')   # custo médio\n",
        "\n",
        "  # Plot\n",
        "  plt.figure(figsize=(8, 5))\n",
        "  plt.barh(lojas, custos_frete, color=cores)\n",
        "  plt.xlabel('Custo Médio de Frete (R$)')\n",
        "  plt.title('Custo Médio de Frete por Loja')\n",
        "\n",
        "  # Mostrar valores no final das barras\n",
        "  for i, v in enumerate(custos_frete):\n",
        "      plt.text(v + 0.1, i, f'R${v:.2f}', va='center')\n",
        "\n",
        "  plt.xlim(30, 36)  # Zoom para facilitar a comparação\n",
        "  plt.tight_layout()\n",
        "  plt.show()\n"
      ],
      "metadata": {
        "id": "Chpz5J_F8RfR"
      },
      "execution_count": 122,
      "outputs": []
    },
    {
      "cell_type": "markdown",
      "source": [
        "#Relatório Final sobre o desempenho das lojas"
      ],
      "metadata": {
        "id": "OUe-_E6prYsv"
      }
    },
    {
      "cell_type": "markdown",
      "source": [
        "## Introdução\n",
        "\n",
        "Este relatório tem como objetivo apresentar uma análise detalhada dos dados de quatro lojas pertencentes ao Sr. João. A finalidade da análise é apoiar a tomada de decisão sobre qual loja deve ser vendida, considerando o alinhamento com os objetivos estratégicos do proprietário.\n",
        "\n",
        "A investigação foi conduzida com base nos seguintes aspectos:\n",
        "- Faturamento total de cada loja;\n",
        "- Categorias de produtos mais e menos vendidas;\n",
        "- Média das avaliações de clientes por loja;\n",
        "- Produtos com maior e menor volume de vendas;\n",
        "- Frete médio praticado por loja."
      ],
      "metadata": {
        "id": "co8sBjEDj138"
      }
    },
    {
      "cell_type": "markdown",
      "source": [
        "## Faturamento total de cada loja\n",
        "\n",
        "De acordo com o gráfico \"Faturamento por loja\" indicado abaixo conclui-se que:\n",
        "- **Loja 1** possui o maior faturamento;\n",
        "- **Loja 4** apresenta o menor faturamento entre todas as lojas;\n",
        "- A diferença de lucro entre a maior e a menor gira em torno de 150 mil\n"
      ],
      "metadata": {
        "id": "5tZ6PItV_O9j"
      }
    },
    {
      "cell_type": "code",
      "source": [
        "grafico_barras()"
      ],
      "metadata": {
        "colab": {
          "base_uri": "https://localhost:8080/",
          "height": 494
        },
        "id": "Bg8nBkx0s4vo",
        "outputId": "78e444d0-cb41-4417-86f9-5fbb95e12b7a"
      },
      "execution_count": 123,
      "outputs": [
        {
          "output_type": "display_data",
          "data": {
            "text/plain": [
              "<Figure size 640x480 with 1 Axes>"
            ],
            "image/png": "[encoded data removed]"
          },
          "metadata": {}
        }
      ]
    },
    {
      "cell_type": "markdown",
      "source": [
        "## Visualização de vendas por categoria de cada loja\n",
        "\n",
        "O gráfico abaixo \"Vendas por categoria e Loja\" evidencia uma forte demanda por **Móveis** e **Eletrônicos** em todas as lojas, com um total de vendas superior a 400 unidades nessas categorias. A categoria mais vendida em todas as lojas é **Móveis**, o que indica uma oportunidade estratégica para investir em produtos de maior qualidade e variedade nesse segmento, visando um aumento no retorno financeiro.\n",
        "\n",
        "Observa-se também que as categorias com menor volume de vendas são **Utilidades Domésticas** e **Instrumentos Musicais**. Isso sugere que uma possível redução nos custos desses produtos pode contribuir para melhorar a rentabilidade das lojas.\n"
      ],
      "metadata": {
        "id": "GoYvefO3_-9s"
      }
    },
    {
      "cell_type": "code",
      "source": [
        "VendasPorCategoria()"
      ],
      "metadata": {
        "colab": {
          "base_uri": "https://localhost:8080/",
          "height": 487
        },
        "id": "eWsyDqn87QdL",
        "outputId": "f132e66d-ec1b-4236-a1bb-40a3f3fa12c0"
      },
      "execution_count": 124,
      "outputs": [
        {
          "output_type": "display_data",
          "data": {
            "text/plain": [
              "<Figure size 640x480 with 1 Axes>"
            ],
            "image/png": "[encoded data removed]"
          },
          "metadata": {}
        }
      ]
    },
    {
      "cell_type": "markdown",
      "source": [
        "## Custo de frete por Loja\n",
        "\n",
        "O custo médio de frete mais alto entre todas as lojas é o da **Loja 1**, com valor aproximado de R$ 34,69, o que contribui para uma margem de lucro maior. Por outro lado, a **Loja 4** apresenta o menor custo médio de frete, em torno de R$ 31,28, o que pode estar associado a um lucro mais baixo em comparação com as demais.\n"
      ],
      "metadata": {
        "id": "lJALfJHeBsVG"
      }
    },
    {
      "cell_type": "code",
      "source": [
        "plotCustoMedioFrete()"
      ],
      "metadata": {
        "colab": {
          "base_uri": "https://localhost:8080/",
          "height": 507
        },
        "id": "48wWUvSR7-DV",
        "outputId": "28002a40-d020-4ace-c75b-68a05e4735be"
      },
      "execution_count": 125,
      "outputs": [
        {
          "output_type": "display_data",
          "data": {
            "text/plain": [
              "<Figure size 800x500 with 1 Axes>"
            ],
            "image/png": "[encoded data removed]"
          },
          "metadata": {}
        }
      ]
    },
    {
      "cell_type": "markdown",
      "source": [
        "## Conclusão\n",
        "\n",
        "Com base nos dados de faturamento, a loja indicada para ser vendida é a **Loja 4**, pois apresenta um desempenho significativamente inferior em comparação com as demais. Apesar do custo de frete ser pago pelos clientes, o valor médio de frete da Loja 4 é baixo, o que pode estar contribuindo para uma margem de lucro reduzida em relação às outras lojas.\n",
        "\n"
      ],
      "metadata": {
        "id": "244jlVR4ly_H"
      }
    }
  ]
}